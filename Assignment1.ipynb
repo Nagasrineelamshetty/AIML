{
  "nbformat": 4,
  "nbformat_minor": 0,
  "metadata": {
    "colab": {
      "provenance": [],
      "authorship_tag": "ABX9TyO4EV9surx17DDuK8mIUsSs",
      "include_colab_link": true
    },
    "kernelspec": {
      "name": "python3",
      "display_name": "Python 3"
    },
    "language_info": {
      "name": "python"
    }
  },
  "cells": [
    {
      "cell_type": "markdown",
      "metadata": {
        "id": "view-in-github",
        "colab_type": "text"
      },
      "source": [
        "<a href=\"https://colab.research.google.com/github/Nagasrineelamshetty/AIML/blob/main/Assignment1.ipynb\" target=\"_parent\"><img src=\"https://colab.research.google.com/assets/colab-badge.svg\" alt=\"Open In Colab\"/></a>"
      ]
    },
    {
      "cell_type": "code",
      "execution_count": null,
      "metadata": {
        "id": "8w41QYyShXkS"
      },
      "outputs": [],
      "source": []
    },
    {
      "cell_type": "markdown",
      "source": [],
      "metadata": {
        "id": "r7PvOfrAienl"
      }
    },
    {
      "cell_type": "markdown",
      "source": [],
      "metadata": {
        "id": "jLFQHJm5icmA"
      }
    },
    {
      "cell_type": "markdown",
      "source": [
        "**1)Difference between inner and outer product?**\n",
        "\n",
        "Inner Product (Dot Product) The inner product takes two vectors of the same size, multiplies their corresponding elements, and sums the results. This operation produces a single scalar value and is often used to measure the similarity or alignment between two vectors. For example, given [1,2] and [3,4] the inner. product is calculated as, (1 * 3) + (2 * 4)=11.\n",
        "\n",
        "Outer product\n",
        "\n",
        "The outer product pairs each element of one vector with every element of another vector, multiplying them to create a collection of results. This operation generates a structured set of values, often used in applications like constructing grids or rank-1 tensors. For instance, for [1,2] and [3,4],the outer product involves (1 * 3), (1 * 4), ( 2 * 3), (2 * 4), yielding [3,4,6,8].\n",
        "\n",
        "\n",
        "\n",
        "\n",
        "2)What are norms? what are the different types of norms?\n",
        "\n",
        "\n",
        "A norm is a mathematical function that measures the \"size\" or \"length\" of a vector in a vector space. It provides a way to quantify the magnitude of a vector without considering its direction. Norms are widely used in linear algebra, machine learning, and numerical analysis to analyze vector properties and optimize algorithms.\n",
        "A norm must satisfy these properties:\n",
        "Non-Negativity\n",
        "Homogeneity\n",
        "Triangle Inequality\n",
        "Defined on a Vector Space\n",
        "\n",
        "Different Types of Norms:\n",
        "\n",
        "L1 Norm (Manhattan or Taxicab Norm): Definition: Sum of the absolute values of vector components.\n",
        "\n",
        "L2 Norm (Euclidean Norm): Definition: Square root of the sum of squared vector components.\n",
        "\n",
        "Infinity Norm (Maximum Norm): Definition: The maximum absolute value of the vector components.\n",
        "\n",
        "\n",
        "Lp Norm (Generalized Norm): Definition: A generalization of L1, L2, and infinity norms.\n",
        "\n",
        "Frobenius Norm (for matrices): Definition: Square root of the sum of all squared elements in a matrix."
      ],
      "metadata": {
        "id": "X7D1Y0hKiVHw"
      }
    }
  ]
}