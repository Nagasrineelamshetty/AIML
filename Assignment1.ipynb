{
  "nbformat": 4,
  "nbformat_minor": 0,
  "metadata": {
    "colab": {
      "provenance": [],
      "authorship_tag": "ABX9TyOla5cqfWE220DnwS+26lj7",
      "include_colab_link": true
    },
    "kernelspec": {
      "name": "python3",
      "display_name": "Python 3"
    },
    "language_info": {
      "name": "python"
    }
  },
  "cells": [
    {
      "cell_type": "markdown",
      "metadata": {
        "id": "view-in-github",
        "colab_type": "text"
      },
      "source": [
        "<a href=\"https://colab.research.google.com/github/Nagasrineelamshetty/AIML/blob/main/Assignment1.ipynb\" target=\"_parent\"><img src=\"https://colab.research.google.com/assets/colab-badge.svg\" alt=\"Open In Colab\"/></a>"
      ]
    },
    {
      "cell_type": "code",
      "execution_count": null,
      "metadata": {
        "id": "YSbRWBLeocuC"
      },
      "outputs": [],
      "source": [
        "Assignment"
      ]
    },
    {
      "cell_type": "markdown",
      "source": [],
      "metadata": {
        "id": "lFtZb2DrqH0J"
      }
    },
    {
      "cell_type": "markdown",
      "source": [
        "In linear algebra, the inner product (also called the dot product) is a way to multiply two vectors, resulting in a scalar. It is defined as the sum of the products of corresponding components of two vectors. For vectors 𝑎 = ( 𝑎 1 , 𝑎 2 , … , 𝑎 𝑛 ) a=(a 1​,a 2​,…,a n​) and 𝑏 = ( 𝑏 1 , 𝑏 2 , … , 𝑏 𝑛 ) b=(b 1​,b 2​,…,b n​), the inner product is:\n",
        "\n",
        "𝑎 ⋅ 𝑏 = 𝑎 1 𝑏 1 + 𝑎 2 𝑏 2 + ⋯ + 𝑎 𝑛 𝑏 𝑛 a⋅b=a 1​b 1​+a 2​b 2​+⋯+a n​b n​\n",
        "\n",
        "The outer product of two vectors results in a matrix. For vectors 𝑎 a (of size 𝑚 × 1 m×1) and 𝑏 b (of size 𝑛 × 1 n×1), the outer product 𝑎 ⊗ 𝑏 a⊗b is an 𝑚 × 𝑛 m×n matrix, where each element is the product of corresponding components of the vectors\n",
        "\n",
        "\n",
        "\n",
        "The norm of a matrix is a measure of its \"size\" or \"magnitude,\" similar to how vector norms measure the length of vectors. Common matrix norms include the Frobenius norm, which is the square root of the sum of the absolute squares of all its entries, and operator norms (such as the spectral norm), which are based on the matrix's singular values. The Frobenius norm of a matrix\n",
        "𝐴\n",
        "=\n",
        "[\n",
        "𝑎\n",
        "𝑖\n",
        "𝑗\n",
        "]\n",
        "A=[a\n",
        "ij\n",
        "​\n",
        " ] is given by:\n",
        "\n",
        "∥\n",
        "𝐴\n",
        "∥\n",
        "𝐹\n",
        "=\n",
        "∑\n",
        "𝑖\n",
        ",\n",
        "𝑗\n",
        "∣\n",
        "𝑎\n",
        "𝑖\n",
        "𝑗\n",
        "∣\n",
        "2\n",
        "∥A∥\n",
        "F\n",
        "​\n",
        " =\n",
        "i,j\n",
        "∑\n",
        "​\n",
        " ∣a\n",
        "ij\n",
        "​\n",
        " ∣\n",
        "2\n",
        "\n",
        "​\n",
        "\n",
        "The spectral norm is the largest singular value of the matrix, and it is used to measure the largest stretching factor of the matrix when applied to a vector. Norms are essential in analyzing the stability and behavior of matrix operations."
      ],
      "metadata": {
        "id": "685CmPeLojOt"
      }
    },
    {
      "cell_type": "markdown",
      "source": [],
      "metadata": {
        "id": "xMjuHLYrqI44"
      }
    }
  ]
}