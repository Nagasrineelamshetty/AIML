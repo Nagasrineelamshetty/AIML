{
  "nbformat": 4,
  "nbformat_minor": 0,
  "metadata": {
    "colab": {
      "provenance": [],
      "authorship_tag": "ABX9TyO1lT1CPUDusWr7UWzrQPrL",
      "include_colab_link": true
    },
    "kernelspec": {
      "name": "python3",
      "display_name": "Python 3"
    },
    "language_info": {
      "name": "python"
    }
  },
  "cells": [
    {
      "cell_type": "markdown",
      "metadata": {
        "id": "view-in-github",
        "colab_type": "text"
      },
      "source": [
        "<a href=\"https://colab.research.google.com/github/Nagasrineelamshetty/AIML/blob/main/Untitled1.ipynb\" target=\"_parent\"><img src=\"https://colab.research.google.com/assets/colab-badge.svg\" alt=\"Open In Colab\"/></a>"
      ]
    },
    {
      "cell_type": "code",
      "execution_count": null,
      "metadata": {
        "id": "YSbRWBLeocuC"
      },
      "outputs": [],
      "source": []
    },
    {
      "cell_type": "markdown",
      "source": [
        "In linear algebra, the inner product (also called the dot product) is a way to multiply two vectors, resulting in a scalar. It is defined as the sum of the products of corresponding components of two vectors. For vectors 𝑎 = ( 𝑎 1 , 𝑎 2 , … , 𝑎 𝑛 ) a=(a 1​,a 2​,…,a n​) and 𝑏 = ( 𝑏 1 , 𝑏 2 , … , 𝑏 𝑛 ) b=(b 1​,b 2​,…,b n​), the inner product is:\n",
        "\n",
        "𝑎 ⋅ 𝑏 = 𝑎 1 𝑏 1 + 𝑎 2 𝑏 2 + ⋯ + 𝑎 𝑛 𝑏 𝑛 a⋅b=a 1​b 1​+a 2​b 2​+⋯+a n​b n​\n",
        "\n",
        "The outer product of two vectors results in a matrix. For vectors 𝑎 a (of size 𝑚 × 1 m×1) and 𝑏 b (of size 𝑛 × 1 n×1), the outer product 𝑎 ⊗ 𝑏 a⊗b is an 𝑚 × 𝑛 m×n matrix, where each element is the product of corresponding components of the vectors:"
      ],
      "metadata": {
        "id": "685CmPeLojOt"
      }
    }
  ]
}